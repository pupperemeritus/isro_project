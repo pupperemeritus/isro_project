{
 "cells": [
  {
   "cell_type": "code",
   "execution_count": 36,
   "metadata": {},
   "outputs": [],
   "source": [
    "import pytorch_lightning as ptl\n",
    "from pytorch_lightning.callbacks import ModelCheckpoint, LearningRateMonitor, EarlyStopping\n",
    "from pytorch_lightning.loggers import TensorBoardLogger\n",
    "import polars as pl\n",
    "import torch\n",
    "import torch.nn as nn\n",
    "import torch.nn.functional as F\n",
    "from typing import Optional\n",
    "from typing import Tuple\n",
    "import torch.optim as optim\n",
    "from model.peephole_lstm import PeepholeLSTM\n",
    "from model.data_loader import load_data, prepare_data_loaders\n",
    "import matplotlib.pyplot as plt"
   ]
  },
  {
   "cell_type": "code",
   "execution_count": 73,
   "metadata": {},
   "outputs": [],
   "source": [
    "data: pl.DataFrame = load_data(\"/home/pupperemeritus/isro_project/data/October2023.parquet\")"
   ]
  },
  {
   "cell_type": "code",
   "execution_count": 66,
   "metadata": {},
   "outputs": [
    {
     "data": {
      "text/plain": [
       "(2861526, 65)"
      ]
     },
     "execution_count": 66,
     "metadata": {},
     "output_type": "execute_result"
    }
   ],
   "source": [
    "data.shape"
   ]
  },
  {
   "cell_type": "code",
   "execution_count": 67,
   "metadata": {},
   "outputs": [
    {
     "data": {
      "text/html": [
       "<div><style>\n",
       ".dataframe > thead > tr,\n",
       ".dataframe > tbody > tr {\n",
       "  text-align: right;\n",
       "  white-space: pre-wrap;\n",
       "}\n",
       "</style>\n",
       "<small>shape: (2_861_526, 65)</small><table border=\"1\" class=\"dataframe\"><thead><tr><th>SVID</th><th>Value of the RxState field of the ReceiverStatus SBF block</th><th>Azimuth</th><th>Elevation</th><th>Average Sig1 C/N0 over the last minute (dB-Hz)</th><th>S4</th><th>Correction to total S4 on Sig1 (thermal noise component only) (dimensionless)</th><th>Phi01 on Sig1, 1-second phase sigma (radians)</th><th>Phi03 on Sig1, 3-second phase sigma (radians)</th><th>Phi10 on Sig1, 10-second phase sigma (radians)</th><th>Phi30 on Sig1, 30-second phase sigma (radians)</th><th>Phi60 on Sig1, 60-second phase sigma (radians)</th><th>AvgCCD on Sig1, average of code/carrier divergence (meters)</th><th>SigmaCCD on Sig1, standard deviation of code/carrier divergence (meters)</th><th>TEC at TOW - 45 seconds (TECU)</th><th> dTEC from TOW - 60s to TOW - 45s (TECU)</th><th>TEC at TOW - 30 seconds (TECU)</th><th>dTEC from TOW - 45s to TOW - 30s (TECU)</th><th>TEC at TOW - 15 seconds (TECU)</th><th>dTEC from TOW - 30s to TOW - 15s (TECU)</th><th>TEC at TOW (TECU)</th><th>dTEC from TOW - 15s to TOW (TECU)</th><th>Sig1 lock time (seconds)</th><th>sbf2ismr version number</th><th>Lock time on the second frequency used for the TEC computation (seconds)</th><th>Averaged C/N0 of second frequency used for the TEC computation (dB-Hz)</th><th>SI Index on Sig1: (10*log10(Pmax)-10*log10(Pmin))/(10*log10(Pmax)+10*log10(Pmin)) (dimensionless)</th><th>SI Index on Sig1, numerator only: 10*log10(Pmax)-10*log10(Pmin) (dB)</th><th>p on Sig1, spectral slope of detrended phase in the 0.1 to 25Hz range (dimensionless)</th><th>Average Sig2 C/N0 over the last minute (dB-Hz)</th><th>Total S4 on Sig2 (dimensionless)</th><th>Correction to total S4 on Sig2 (thermal noise component only) (dimensionless)</th><th>Phi01 on Sig2, 1-second phase sigma (radians)</th><th> Phi03 on Sig2, 3-second phase sigma (radians)</th><th>Phi10 on Sig2, 10-second phase sigma (radians)</th><th>Phi30 on Sig2, 30-second phase sigma (radians)</th><th>Phi60 on Sig2, 60-second phase sigma (radians)</th><th>AvgCCD on Sig2, average of code/carrier divergence (meters)</th><th>SigmaCCD on Sig2, standard deviation of code/carrier divergence (meters)</th><th>Sig2 lock time (seconds)</th><th>SI Index on Sig2 (dimensionless)</th><th>SI Index on Sig2, numerator only (dB)</th><th>p on Sig2, phase spectral slope in the 0.1 to 25Hz range (dimensionless)</th><th>Average Sig3 C/N0 over the last minute (dB-Hz)</th><th>Total S4 on Sig3 (dimensionless)</th><th>Correction to total S4 on Sig3 (thermal noise component only) (dimensionless)</th><th>Phi01 on Sig3, 1-second phase sigma (radians)</th><th>Phi03 on Sig3, 3-second phase sigma (radians)</th><th>Phi10 on Sig3, 10-second phase sigma (radians)</th><th>Phi30 on Sig3, 30-second phase sigma (radians)</th><th>Phi60 on Sig3, 60-second phase sigma (radians)</th><th>AvgCCD on Sig3, average of code/carrier divergence (meters)</th><th>SigmaCCD on Sig3, standard deviation of code/carrier divergence (meters)</th><th>Sig3 lock time (seconds)</th><th>SI Index on Sig3 (dimensionless)</th><th>SI Index on Sig3, numerator only (dB)</th><th>p on Sig3, phase spectral slope in the 0.1 to 25Hz range (dimensionless)</th><th>T on Sig1, phase power spectral density at 1 Hz (rad^2/Hz)</th><th>T on Sig2, phase power spectral density at 1 Hz (rad^2/Hz)</th><th>Vertical Scintillation Amplitude</th><th>Vertical Scintillation Phase</th><th>T on Sig3, phase power spectral density at 1 Hz (rad^2/Hz)</th><th>Latitude</th><th>Longitude</th><th>IST_Time</th></tr><tr><td>f64</td><td>f64</td><td>f64</td><td>f64</td><td>f64</td><td>f64</td><td>f64</td><td>f64</td><td>f64</td><td>f64</td><td>f64</td><td>f64</td><td>f64</td><td>f64</td><td>f64</td><td>f64</td><td>f64</td><td>f64</td><td>f64</td><td>f64</td><td>f64</td><td>f64</td><td>f64</td><td>f64</td><td>f64</td><td>f64</td><td>f64</td><td>f64</td><td>f64</td><td>f64</td><td>f64</td><td>f64</td><td>f64</td><td>f64</td><td>f64</td><td>f64</td><td>f64</td><td>f64</td><td>f64</td><td>f64</td><td>f64</td><td>f64</td><td>f64</td><td>f64</td><td>f64</td><td>f64</td><td>f64</td><td>f64</td><td>f64</td><td>f64</td><td>f64</td><td>f64</td><td>f64</td><td>f64</td><td>f64</td><td>f64</td><td>f64</td><td>f64</td><td>f64</td><td>f64</td><td>f64</td><td>f64</td><td>f64</td><td>f64</td><td>datetime[μs]</td></tr></thead><tbody><tr><td>5.0</td><td>630.0</td><td>17.0</td><td>67.0</td><td>49.4</td><td>0.027</td><td>0.034</td><td>0.017</td><td>0.031</td><td>0.04</td><td>0.04</td><td>0.041</td><td>-14.596</td><td>0.004</td><td>12.61</td><td>0.01</td><td>12.572</td><td>0.007</td><td>12.591</td><td>0.008</td><td>12.572</td><td>0.016</td><td>13911.0</td><td>781.0</td><td>7834.0</td><td>57.4</td><td>0.007</td><td>0.782</td><td>1.8</td><td>48.7</td><td>0.035</td><td>0.037</td><td>0.017</td><td>0.03</td><td>0.039</td><td>0.039</td><td>0.04</td><td>-25.402</td><td>0.007</td><td>7834.0</td><td>0.01</td><td>0.93</td><td>1.66</td><td>null</td><td>null</td><td>null</td><td>null</td><td>null</td><td>null</td><td>null</td><td>null</td><td>null</td><td>null</td><td>null</td><td>null</td><td>null</td><td>null</td><td>0.000027</td><td>0.00003</td><td>0.020354</td><td>0.03827</td><td>null</td><td>18.777651</td><td>78.758218</td><td>2023-10-01 05:31:00</td></tr><tr><td>11.0</td><td>630.0</td><td>47.0</td><td>20.0</td><td>36.2</td><td>0.124</td><td>0.156</td><td>0.039</td><td>0.041</td><td>0.043</td><td>0.043</td><td>0.043</td><td>-30.136</td><td>0.018</td><td>19.332</td><td>0.089</td><td>19.37</td><td>0.118</td><td>19.77</td><td>0.109</td><td>19.989</td><td>0.078</td><td>22104.0</td><td>781.0</td><td>22100.0</td><td>22.1</td><td>0.039</td><td>3.334</td><td>1.31</td><td>39.5</td><td>0.109</td><td>0.106</td><td>0.036</td><td>0.042</td><td>0.054</td><td>0.056</td><td>0.058</td><td>-48.513</td><td>0.05</td><td>256.0</td><td>0.038</td><td>2.975</td><td>1.51</td><td>42.2</td><td>0.079</td><td>0.077</td><td>0.027</td><td>0.037</td><td>0.056</td><td>0.06</td><td>0.069</td><td>-53.368</td><td>0.066</td><td>22143.0</td><td>0.026</td><td>2.3</td><td>1.45</td><td>0.000137</td><td>0.000148</td><td>0.109271</td><td>0.041292</td><td>0.000081</td><td>22.710547</td><td>84.609833</td><td>2023-10-01 05:31:00</td></tr><tr><td>12.0</td><td>630.0</td><td>195.0</td><td>53.0</td><td>48.9</td><td>0.031</td><td>0.036</td><td>0.015</td><td>0.02</td><td>0.022</td><td>0.023</td><td>0.023</td><td>-5.513</td><td>0.011</td><td>14.542</td><td>0.023</td><td>14.637</td><td>0.02</td><td>14.656</td><td>0.029</td><td>14.732</td><td>0.024</td><td>15353.0</td><td>781.0</td><td>7834.0</td><td>54.9</td><td>0.008</td><td>0.91</td><td>1.83</td><td>46.5</td><td>0.047</td><td>0.047</td><td>0.017</td><td>0.023</td><td>0.028</td><td>0.029</td><td>0.029</td><td>-9.81</td><td>0.018</td><td>7834.0</td><td>0.014</td><td>1.32</td><td>1.76</td><td>41.75</td><td>0.08525</td><td>0.0815</td><td>0.02775</td><td>0.036</td><td>0.05075</td><td>0.05375</td><td>0.06075</td><td>-46.0</td><td>0.0595</td><td>17578.5</td><td>0.02825</td><td>2.46475</td><td>1.4475</td><td>0.00003</td><td>0.000046</td><td>0.007094</td><td>0.016135</td><td>0.000084</td><td>14.927063</td><td>77.62753</td><td>2023-10-01 05:31:00</td></tr><tr><td>13.0</td><td>630.0</td><td>124.0</td><td>28.0</td><td>41.3</td><td>0.086</td><td>0.086</td><td>0.035</td><td>0.054</td><td>0.081</td><td>0.087</td><td>0.098</td><td>-10.845</td><td>0.002</td><td>24.417</td><td>-0.006</td><td>24.551</td><td>0.004</td><td>24.646</td><td>0.023</td><td>24.779</td><td>-0.004</td><td>12400.0</td><td>781.0</td><td>6250.0</td><td>27.9</td><td>0.026</td><td>2.475</td><td>1.77</td><td>44.2</td><td>0.065</td><td>0.0635</td><td>0.0225</td><td>0.028</td><td>0.0335</td><td>0.0345</td><td>0.0345</td><td>-11.172</td><td>0.0185</td><td>6977.5</td><td>0.0205</td><td>1.816</td><td>1.685</td><td>41.3</td><td>0.0915</td><td>0.086</td><td>0.0285</td><td>0.035</td><td>0.0455</td><td>0.0475</td><td>0.0525</td><td>-38.632</td><td>0.053</td><td>13014.0</td><td>0.0305</td><td>2.6295</td><td>1.445</td><td>0.000182</td><td>0.000074</td><td>0.014132</td><td>0.062675</td><td>0.0000875</td><td>14.027978</td><td>83.352908</td><td>2023-10-01 05:31:00</td></tr><tr><td>15.0</td><td>630.0</td><td>169.0</td><td>32.0</td><td>43.7</td><td>0.075</td><td>0.065</td><td>0.027</td><td>0.034</td><td>0.044</td><td>0.046</td><td>0.047</td><td>-7.634</td><td>0.011</td><td>20.718</td><td>-0.017</td><td>20.603</td><td>-0.043</td><td>20.527</td><td>-0.026</td><td>20.622</td><td>-0.023</td><td>6128.0</td><td>781.0</td><td>6102.0</td><td>45.5</td><td>0.021</td><td>2.063</td><td>1.53</td><td>41.9</td><td>0.083</td><td>0.08</td><td>0.028</td><td>0.033</td><td>0.039</td><td>0.04</td><td>0.04</td><td>-12.534</td><td>0.019</td><td>6121.0</td><td>0.027</td><td>2.312</td><td>1.61</td><td>40.85</td><td>0.09775</td><td>0.0905</td><td>0.02925</td><td>0.034</td><td>0.04025</td><td>0.04125</td><td>0.04425</td><td>-31.264</td><td>0.0465</td><td>8449.5</td><td>0.03275</td><td>2.79425</td><td>1.4425</td><td>0.000086</td><td>0.000102</td><td>0.031299</td><td>0.03677</td><td>0.000091</td><td>12.342354</td><td>79.312619</td><td>2023-10-01 05:31:00</td></tr><tr><td>&hellip;</td><td>&hellip;</td><td>&hellip;</td><td>&hellip;</td><td>&hellip;</td><td>&hellip;</td><td>&hellip;</td><td>&hellip;</td><td>&hellip;</td><td>&hellip;</td><td>&hellip;</td><td>&hellip;</td><td>&hellip;</td><td>&hellip;</td><td>&hellip;</td><td>&hellip;</td><td>&hellip;</td><td>&hellip;</td><td>&hellip;</td><td>&hellip;</td><td>&hellip;</td><td>&hellip;</td><td>&hellip;</td><td>&hellip;</td><td>&hellip;</td><td>&hellip;</td><td>&hellip;</td><td>&hellip;</td><td>&hellip;</td><td>&hellip;</td><td>&hellip;</td><td>&hellip;</td><td>&hellip;</td><td>&hellip;</td><td>&hellip;</td><td>&hellip;</td><td>&hellip;</td><td>&hellip;</td><td>&hellip;</td><td>&hellip;</td><td>&hellip;</td><td>&hellip;</td><td>&hellip;</td><td>&hellip;</td><td>&hellip;</td><td>&hellip;</td><td>&hellip;</td><td>&hellip;</td><td>&hellip;</td><td>&hellip;</td><td>&hellip;</td><td>&hellip;</td><td>&hellip;</td><td>&hellip;</td><td>&hellip;</td><td>&hellip;</td><td>&hellip;</td><td>&hellip;</td><td>&hellip;</td><td>&hellip;</td><td>&hellip;</td><td>&hellip;</td><td>&hellip;</td><td>&hellip;</td><td>&hellip;</td></tr><tr><td>241.0</td><td>630.0</td><td>98.0</td><td>19.0</td><td>39.4</td><td>0.132</td><td>0.107</td><td>0.04</td><td>0.041</td><td>0.042</td><td>0.042</td><td>0.043</td><td>-50.741</td><td>0.019</td><td>3.983333</td><td>0.044</td><td>3.9005</td><td>0.047333</td><td>3.774167</td><td>0.031833</td><td>3.649667</td><td>0.001333</td><td>55870.0</td><td>781.0</td><td>293.0</td><td>42.35</td><td>0.043</td><td>3.702</td><td>1.4</td><td>42.35</td><td>0.076833</td><td>0.076667</td><td>0.025667</td><td>0.026667</td><td>0.028833</td><td>0.028833</td><td>0.028833</td><td>-83.317333</td><td>0.017667</td><td>293.0</td><td>0.025333</td><td>2.231333</td><td>1.42</td><td>40.8</td><td>0.096</td><td>0.092</td><td>0.03</td><td>0.031</td><td>0.032</td><td>0.032</td><td>0.032</td><td>-77.859</td><td>0.029</td><td>334.0</td><td>0.031</td><td>2.677</td><td>1.3</td><td>0.000159</td><td>0.0000675</td><td>0.023196</td><td>0.025388</td><td>0.000083</td><td>16.059554</td><td>86.842941</td><td>2023-11-01 05:30:00</td></tr><tr><td>242.0</td><td>630.0</td><td>174.0</td><td>72.0</td><td>50.9</td><td>0.029</td><td>0.029</td><td>0.011</td><td>0.013</td><td>0.018</td><td>0.018</td><td>0.018</td><td>-13.851</td><td>0.002</td><td>3.248667</td><td>0.045</td><td>3.16925</td><td>0.052167</td><td>3.130083</td><td>0.031917</td><td>3.053333</td><td>-0.000333</td><td>25606.0</td><td>781.0</td><td>313.5</td><td>42.275</td><td>0.007</td><td>0.821</td><td>1.63</td><td>42.275</td><td>0.076917</td><td>0.077333</td><td>0.025833</td><td>0.026833</td><td>0.028917</td><td>0.028917</td><td>0.028917</td><td>-91.642167</td><td>0.017333</td><td>313.5</td><td>0.025667</td><td>2.250167</td><td>1.42</td><td>54.1</td><td>0.02</td><td>0.02</td><td>0.008</td><td>0.01</td><td>0.014</td><td>0.015</td><td>0.015</td><td>-20.99</td><td>0.003</td><td>334.0</td><td>0.005</td><td>0.514</td><td>1.58</td><td>0.000016</td><td>0.000068</td><td>0.005156</td><td>0.011371</td><td>0.000008</td><td>16.282518</td><td>78.431253</td><td>2023-11-01 05:30:00</td></tr><tr><td>183.0</td><td>630.0</td><td>98.0</td><td>28.0</td><td>39.4</td><td>0.095</td><td>0.107</td><td>0.031</td><td>0.033</td><td>0.035</td><td>0.035</td><td>0.035</td><td>-61.856</td><td>0.012</td><td>2.514</td><td>0.046</td><td>2.438</td><td>0.057</td><td>2.486</td><td>0.032</td><td>2.457</td><td>-0.002</td><td>334.0</td><td>781.0</td><td>334.0</td><td>42.2</td><td>0.029</td><td>2.65</td><td>1.42</td><td>42.2</td><td>0.077</td><td>0.078</td><td>0.026</td><td>0.027</td><td>0.029</td><td>0.029</td><td>0.029</td><td>-99.967</td><td>0.017</td><td>334.0</td><td>0.026</td><td>2.269</td><td>1.42</td><td>43.0</td><td>0.07</td><td>0.071</td><td>0.022</td><td>0.023</td><td>0.024</td><td>0.024</td><td>0.024</td><td>-106.591</td><td>0.02</td><td>52038.0</td><td>0.021</td><td>1.924</td><td>1.36</td><td>0.000104</td><td>0.000069</td><td>0.021346</td><td>0.022384</td><td>0.000046</td><td>16.476786</td><td>84.407911</td><td>2023-11-01 05:30:00</td></tr><tr><td>184.0</td><td>630.0</td><td>59.0</td><td>30.0</td><td>37.8</td><td>0.184</td><td>0.13</td><td>0.06</td><td>0.062</td><td>0.065</td><td>0.065</td><td>0.065</td><td>-31.082</td><td>0.009</td><td>2.929</td><td>0.059</td><td>2.9</td><td>-0.01</td><td>2.862</td><td>0.0</td><td>3.081</td><td>0.06</td><td>29447.0</td><td>781.0</td><td>334.0</td><td>40.4</td><td>0.049</td><td>4.347</td><td>1.27</td><td>40.4</td><td>0.09</td><td>0.095</td><td>0.031</td><td>0.033</td><td>0.035</td><td>0.035</td><td>0.035</td><td>-50.206</td><td>0.015</td><td>334.0</td><td>0.03</td><td>2.432</td><td>1.36</td><td>42.2</td><td>0.078</td><td>0.077</td><td>0.026</td><td>0.028</td><td>0.029</td><td>0.029</td><td>0.029</td><td>-54.693</td><td>0.017</td><td>334.0</td><td>0.022</td><td>1.956</td><td>1.43</td><td>0.000324</td><td>0.000097</td><td>0.181002</td><td>0.06465</td><td>0.000072</td><td>20.160257</td><td>83.335476</td><td>2023-11-01 05:30:00</td></tr><tr><td>187.0</td><td>630.0</td><td>105.0</td><td>32.0</td><td>34.3</td><td>0.354</td><td>0.193</td><td>0.132</td><td>0.142</td><td>0.147</td><td>0.148</td><td>0.149</td><td>0.548</td><td>0.021</td><td>14.177</td><td>0.246</td><td>13.72</td><td>0.002</td><td>13.14</td><td>-0.102</td><td>12.787</td><td>-0.072</td><td>334.0</td><td>781.0</td><td>334.0</td><td>42.9</td><td>0.143</td><td>11.184</td><td>1.37</td><td>42.9</td><td>0.071</td><td>0.072</td><td>0.024</td><td>0.026</td><td>0.028</td><td>0.028</td><td>0.028</td><td>-32.963</td><td>0.059</td><td>334.0</td><td>0.023</td><td>2.017</td><td>1.36</td><td>45.5</td><td>0.051</td><td>0.053</td><td>0.018</td><td>0.02</td><td>0.022</td><td>0.022</td><td>0.022</td><td>-37.773</td><td>0.066</td><td>65534.0</td><td>0.014</td><td>1.33</td><td>1.39</td><td>0.001758</td><td>0.000061</td><td>0.159804</td><td>0.116567</td><td>0.000033</td><td>15.994549</td><td>83.474619</td><td>2023-11-01 05:30:00</td></tr></tbody></table></div>"
      ],
      "text/plain": [
       "shape: (2_861_526, 65)\n",
       "┌───────┬─────────────┬─────────┬───────────┬───┬─────────────┬───────────┬───────────┬────────────┐\n",
       "│ SVID  ┆ Value of    ┆ Azimuth ┆ Elevation ┆ … ┆ T on Sig3,  ┆ Latitude  ┆ Longitude ┆ IST_Time   │\n",
       "│ ---   ┆ the RxState ┆ ---     ┆ ---       ┆   ┆ phase power ┆ ---       ┆ ---       ┆ ---        │\n",
       "│ f64   ┆ field of …  ┆ f64     ┆ f64       ┆   ┆ spectra…    ┆ f64       ┆ f64       ┆ datetime[μ │\n",
       "│       ┆ ---         ┆         ┆           ┆   ┆ ---         ┆           ┆           ┆ s]         │\n",
       "│       ┆ f64         ┆         ┆           ┆   ┆ f64         ┆           ┆           ┆            │\n",
       "╞═══════╪═════════════╪═════════╪═══════════╪═══╪═════════════╪═══════════╪═══════════╪════════════╡\n",
       "│ 5.0   ┆ 630.0       ┆ 17.0    ┆ 67.0      ┆ … ┆ null        ┆ 18.777651 ┆ 78.758218 ┆ 2023-10-01 │\n",
       "│       ┆             ┆         ┆           ┆   ┆             ┆           ┆           ┆ 05:31:00   │\n",
       "│ 11.0  ┆ 630.0       ┆ 47.0    ┆ 20.0      ┆ … ┆ 0.000081    ┆ 22.710547 ┆ 84.609833 ┆ 2023-10-01 │\n",
       "│       ┆             ┆         ┆           ┆   ┆             ┆           ┆           ┆ 05:31:00   │\n",
       "│ 12.0  ┆ 630.0       ┆ 195.0   ┆ 53.0      ┆ … ┆ 0.000084    ┆ 14.927063 ┆ 77.62753  ┆ 2023-10-01 │\n",
       "│       ┆             ┆         ┆           ┆   ┆             ┆           ┆           ┆ 05:31:00   │\n",
       "│ 13.0  ┆ 630.0       ┆ 124.0   ┆ 28.0      ┆ … ┆ 0.0000875   ┆ 14.027978 ┆ 83.352908 ┆ 2023-10-01 │\n",
       "│       ┆             ┆         ┆           ┆   ┆             ┆           ┆           ┆ 05:31:00   │\n",
       "│ 15.0  ┆ 630.0       ┆ 169.0   ┆ 32.0      ┆ … ┆ 0.000091    ┆ 12.342354 ┆ 79.312619 ┆ 2023-10-01 │\n",
       "│       ┆             ┆         ┆           ┆   ┆             ┆           ┆           ┆ 05:31:00   │\n",
       "│ …     ┆ …           ┆ …       ┆ …         ┆ … ┆ …           ┆ …         ┆ …         ┆ …          │\n",
       "│ 241.0 ┆ 630.0       ┆ 98.0    ┆ 19.0      ┆ … ┆ 0.000083    ┆ 16.059554 ┆ 86.842941 ┆ 2023-11-01 │\n",
       "│       ┆             ┆         ┆           ┆   ┆             ┆           ┆           ┆ 05:30:00   │\n",
       "│ 242.0 ┆ 630.0       ┆ 174.0   ┆ 72.0      ┆ … ┆ 0.000008    ┆ 16.282518 ┆ 78.431253 ┆ 2023-11-01 │\n",
       "│       ┆             ┆         ┆           ┆   ┆             ┆           ┆           ┆ 05:30:00   │\n",
       "│ 183.0 ┆ 630.0       ┆ 98.0    ┆ 28.0      ┆ … ┆ 0.000046    ┆ 16.476786 ┆ 84.407911 ┆ 2023-11-01 │\n",
       "│       ┆             ┆         ┆           ┆   ┆             ┆           ┆           ┆ 05:30:00   │\n",
       "│ 184.0 ┆ 630.0       ┆ 59.0    ┆ 30.0      ┆ … ┆ 0.000072    ┆ 20.160257 ┆ 83.335476 ┆ 2023-11-01 │\n",
       "│       ┆             ┆         ┆           ┆   ┆             ┆           ┆           ┆ 05:30:00   │\n",
       "│ 187.0 ┆ 630.0       ┆ 105.0   ┆ 32.0      ┆ … ┆ 0.000033    ┆ 15.994549 ┆ 83.474619 ┆ 2023-11-01 │\n",
       "│       ┆             ┆         ┆           ┆   ┆             ┆           ┆           ┆ 05:30:00   │\n",
       "└───────┴─────────────┴─────────┴───────────┴───┴─────────────┴───────────┴───────────┴────────────┘"
      ]
     },
     "execution_count": 67,
     "metadata": {},
     "output_type": "execute_result"
    }
   ],
   "source": [
    "data.interpolate()"
   ]
  },
  {
   "cell_type": "code",
   "execution_count": 80,
   "metadata": {},
   "outputs": [
    {
     "name": "stdout",
     "output_type": "stream",
     "text": [
      "shape: (9, 66)\n",
      "┌───────────┬───────────┬───────────┬───────────┬───┬───────────┬───────────┬───────────┬──────────┐\n",
      "│ statistic ┆ SVID      ┆ Value of  ┆ Azimuth   ┆ … ┆ T on      ┆ Latitude  ┆ Longitude ┆ IST_Time │\n",
      "│ ---       ┆ ---       ┆ the       ┆ ---       ┆   ┆ Sig3,     ┆ ---       ┆ ---       ┆ ---      │\n",
      "│ str       ┆ f64       ┆ RxState   ┆ f64       ┆   ┆ phase     ┆ f64       ┆ f64       ┆ str      │\n",
      "│           ┆           ┆ field of  ┆           ┆   ┆ power     ┆           ┆           ┆          │\n",
      "│           ┆           ┆ …         ┆           ┆   ┆ spectra…  ┆           ┆           ┆          │\n",
      "│           ┆           ┆ ---       ┆           ┆   ┆ ---       ┆           ┆           ┆          │\n",
      "│           ┆           ┆ f64       ┆           ┆   ┆ f64       ┆           ┆           ┆          │\n",
      "╞═══════════╪═══════════╪═══════════╪═══════════╪═══╪═══════════╪═══════════╪═══════════╪══════════╡\n",
      "│ count     ┆ 2.861526e ┆ 2.861526e ┆ 2.861526e ┆ … ┆ 1.850672e ┆ 2.861526e ┆ 2.861526e ┆ 2861526  │\n",
      "│           ┆ 6         ┆ 6         ┆ 6         ┆   ┆ 6         ┆ 6         ┆ 6         ┆          │\n",
      "│ null_coun ┆ 0.0       ┆ 0.0       ┆ 0.0       ┆ … ┆ 1.010854e ┆ 0.0       ┆ 0.0       ┆ 0        │\n",
      "│ t         ┆           ┆           ┆           ┆   ┆ 6         ┆           ┆           ┆          │\n",
      "│ mean      ┆ 115.52705 ┆ 630.0     ┆ 156.21633 ┆ … ┆ 0.000173  ┆ 16.398506 ┆ 79.486235 ┆ 2023-10- │\n",
      "│           ┆ 3         ┆           ┆ 1         ┆   ┆           ┆           ┆           ┆ 16 17:48 │\n",
      "│           ┆           ┆           ┆           ┆   ┆           ┆           ┆           ┆ :35.3827 │\n",
      "│           ┆           ┆           ┆           ┆   ┆           ┆           ┆           ┆ 15       │\n",
      "│ std       ┆ 65.998176 ┆ 0.0       ┆ 91.849103 ┆ … ┆ 0.001194  ┆ 5.093402  ┆ 5.607641  ┆ null     │\n",
      "│ min       ┆ 2.0       ┆ 630.0     ┆ 0.0       ┆ … ┆ 0.000003  ┆ -2.558444 ┆ 57.362963 ┆ 2023-10- │\n",
      "│           ┆           ┆           ┆           ┆   ┆           ┆           ┆           ┆ 01       │\n",
      "│           ┆           ┆           ┆           ┆   ┆           ┆           ┆           ┆ 05:31:00 │\n",
      "│ 25%       ┆ 53.0      ┆ 630.0     ┆ 93.0      ┆ … ┆ 0.000029  ┆ 15.108257 ┆ 76.729702 ┆ 2023-10- │\n",
      "│           ┆           ┆           ┆           ┆   ┆           ┆           ┆           ┆ 08       │\n",
      "│           ┆           ┆           ┆           ┆   ┆           ┆           ┆           ┆ 23:59:00 │\n",
      "│ 50%       ┆ 132.0     ┆ 630.0     ┆ 142.0     ┆ … ┆ 0.000057  ┆ 16.132205 ┆ 79.520606 ┆ 2023-10- │\n",
      "│           ┆           ┆           ┆           ┆   ┆           ┆           ┆           ┆ 16       │\n",
      "│           ┆           ┆           ┆           ┆   ┆           ┆           ┆           ┆ 18:15:00 │\n",
      "│ 75%       ┆ 165.0     ┆ 630.0     ┆ 227.0     ┆ … ┆ 0.000111  ┆ 19.57806  ┆ 82.836522 ┆ 2023-10- │\n",
      "│           ┆           ┆           ┆           ┆   ┆           ┆           ┆           ┆ 24       │\n",
      "│           ┆           ┆           ┆           ┆   ┆           ┆           ┆           ┆ 11:30:00 │\n",
      "│ max       ┆ 242.0     ┆ 630.0     ┆ 359.0     ┆ … ┆ 0.161901  ┆ 35.170931 ┆ 98.994946 ┆ 2023-11- │\n",
      "│           ┆           ┆           ┆           ┆   ┆           ┆           ┆           ┆ 01       │\n",
      "│           ┆           ┆           ┆           ┆   ┆           ┆           ┆           ┆ 05:30:00 │\n",
      "└───────────┴───────────┴───────────┴───────────┴───┴───────────┴───────────┴───────────┴──────────┘\n"
     ]
    }
   ],
   "source": [
    "print(data.describe())\n",
    "column_iter = data.describe().iter_columns()\n",
    "nan_col_names = []\n",
    "nan_ratios = []\n",
    "for col in column_iter:\n",
    "    try:\n",
    "        nan_ratio: float = col[1] / col[0]\n",
    "        nan_ratios.append(nan_ratio)\n",
    "        if nan_ratio >= 0.4:\n",
    "            nan_col_names.append(col.name)\n",
    "    except:\n",
    "        ..."
   ]
  },
  {
   "cell_type": "code",
   "execution_count": 81,
   "metadata": {},
   "outputs": [
    {
     "name": "stdout",
     "output_type": "stream",
     "text": [
      "[0.0, 0.0, 0.0, 0.0, 0.0, 0.0, 0.0, 0.00011638501841714277, 0.00023978971211252638, 0.0007463125027977976, 0.0019769738224295137, 0.0033650907859206873, 0.0, 0.0, 0.3971476280686678, 0.3971476280686678, 0.39726565189431173, 0.4056441392319255, 0.39732091845853196, 0.4057677465819005, 0.3860275740209014, 0.39732091845853196, 0.001869626137793547, 0.0, 0.3624147397509158, 0.33614833236288555, 3.494640095753139e-07, 3.494640095753139e-07, 0.004510514881118498, 0.3900889959776927, 0.3905260431523228, 0.3905260431523228, 0.3910262486674415, 0.3916716394827493, 0.3951313454375256, 0.4055889027517168, 0.4167800889124783, 0.3900896712636609, 0.3900896712636609, 0.4176125174815821, 0.3899188448259448, 0.3899188448259448, 0.4360692759747266, 0.5426481877620025, 0.5426772957595224, 0.5426772957595224, 0.5428369934604579, 0.5429734280983073, 0.5434328244698897, 0.5443824442308408, 0.5453132045719038, 0.5426490194038307, 0.5426490194038307, 0.5433495802008629, 0.5426423662943118, 0.5426423662943118, 0.5462091607805165, 0.004510514881118498, 0.4360692759747266, 0.0, 0.0, 0.5462091607805165, 0.0, 0.0]\n"
     ]
    }
   ],
   "source": [
    "print(nan_ratios)"
   ]
  },
  {
   "cell_type": "code",
   "execution_count": 52,
   "metadata": {},
   "outputs": [],
   "source": [
    "%matplotlib inline"
   ]
  },
  {
   "cell_type": "code",
   "execution_count": 82,
   "metadata": {},
   "outputs": [
    {
     "name": "stdout",
     "output_type": "stream",
     "text": [
      "22\n"
     ]
    },
    {
     "data": {
      "image/png": "[encoded data removed]",
      "text/plain": [
       "<Figure size 640x480 with 1 Axes>"
      ]
     },
     "metadata": {},
     "output_type": "display_data"
    }
   ],
   "source": [
    "print(len(nan_col_names))\n",
    "plt.hist(x=nan_ratios,bins=50,density=True,histtype=\"stepfilled\")\n",
    "plt.show()"
   ]
  },
  {
   "cell_type": "code",
   "execution_count": 5,
   "metadata": {},
   "outputs": [],
   "source": [
    "class UnidirectionalLSTM(ptl.LightningModule):\n",
    "    def __init__(\n",
    "        self,\n",
    "        input_size: int,\n",
    "        hidden_size: int,\n",
    "        num_layers: int,\n",
    "        learning_rate: float = 0.001,\n",
    "        dropout: float = 0.2,\n",
    "    ):\n",
    "        super().__init__()\n",
    "        self.lstm = nn.LSTM(\n",
    "            input_size=input_size,\n",
    "            hidden_size=hidden_size,\n",
    "            num_layers=num_layers,\n",
    "            batch_first=True,\n",
    "            bidirectional=False,\n",
    "            dropout=dropout,\n",
    "        )\n",
    "        self.fc = nn.Linear(hidden_size, 1)\n",
    "        self.learning_rate = learning_rate\n",
    "\n",
    "    def forward(\n",
    "        self, x: torch.Tensor, mask: Optional[torch.Tensor] = None\n",
    "    ) -> torch.Tensor:\n",
    "        # Replace NaNs with zeros and create a mask\n",
    "        if mask is None:\n",
    "            mask = ~torch.isnan(x)\n",
    "        x = torch.nan_to_num(x, nan=0.0)\n",
    "\n",
    "        # Pack the sequence to handle variable-length inputs\n",
    "        lengths = mask.sum(dim=1).cpu()\n",
    "        packed_x = nn.utils.rnn.pack_padded_sequence(\n",
    "            x, lengths, batch_first=True, enforce_sorted=False\n",
    "        )\n",
    "\n",
    "        # Process with LSTM\n",
    "        packed_lstm_out, _ = self.lstm(packed_x)\n",
    "\n",
    "        # Unpack the sequence\n",
    "        lstm_out, _ = nn.utils.rnn.pad_packed_sequence(\n",
    "            packed_lstm_out, batch_first=True\n",
    "        )\n",
    "\n",
    "        # Get the last valid output for each sequence\n",
    "        idx = (lengths - 1).view(-1, 1).expand(-1, lstm_out.size(2))\n",
    "        last_valid = lstm_out.gather(1, idx.unsqueeze(1)).squeeze(1)\n",
    "\n",
    "        out = self.fc(last_valid)\n",
    "        return out\n",
    "\n",
    "    def _step(\n",
    "        self, batch: Tuple[torch.Tensor, torch.Tensor, torch.Tensor]\n",
    "    ) -> torch.Tensor:\n",
    "        x, y, mask = batch\n",
    "        y_hat = self(x, mask)\n",
    "\n",
    "        # Use masked MSE loss\n",
    "        loss = nn.MSELoss(reduction=\"none\")(y_hat, y)\n",
    "        mask = mask[:, -1].unsqueeze(1)  # Use mask for the last time step\n",
    "        loss = (loss * mask).sum() / mask.sum()\n",
    "\n",
    "        return loss\n",
    "\n",
    "    def training_step(\n",
    "        self, batch: Tuple[torch.Tensor, torch.Tensor, torch.Tensor], batch_idx: int\n",
    "    ) -> torch.Tensor:\n",
    "        loss = self._step(batch)\n",
    "        self.log(\"train_loss\", loss, on_step=True, on_epoch=True, prog_bar=True)\n",
    "        return loss\n",
    "\n",
    "    def validation_step(\n",
    "        self, batch: Tuple[torch.Tensor, torch.Tensor, torch.Tensor], batch_idx: int\n",
    "    ) -> None:\n",
    "        loss = self._step(batch)\n",
    "        self.log(\"val_loss\", loss, on_step=False, on_epoch=True, prog_bar=True)\n",
    "\n",
    "    def test_step(\n",
    "        self, batch: Tuple[torch.Tensor, torch.Tensor, torch.Tensor], batch_idx: int\n",
    "    ) -> None:\n",
    "        loss = self._step(batch)\n",
    "        loss = torch.log1p(loss)\n",
    "        self.log(\"test_loss\", loss, on_step=False, on_epoch=True, prog_bar=True)\n",
    "\n",
    "    def configure_optimizers(self):\n",
    "        optimizer = torch.optim.Adam(self.parameters(), lr=self.learning_rate)\n",
    "        scheduler = torch.optim.lr_scheduler.ReduceLROnPlateau(\n",
    "            optimizer, mode=\"min\", factor=0.1, patience=10\n",
    "        )\n",
    "        return {\n",
    "            \"optimizer\": optimizer,\n",
    "            \"lr_scheduler\": {\n",
    "                \"scheduler\": scheduler,\n",
    "                \"monitor\": \"val_loss\",\n",
    "            },\n",
    "        }"
   ]
  },
  {
   "cell_type": "code",
   "execution_count": 6,
   "metadata": {},
   "outputs": [],
   "source": [
    "batch_size = 128\n",
    "file_path = \"/home/pupperemeritus/isro_project/data/October2023.parquet\"\n",
    "train_loader, val_loader, test_loader, target_scaler = prepare_data_loaders(\n",
    "    file_path,\n",
    "    batch_size=batch_size,\n",
    "    sequence_length=60,\n",
    "    prediction_horizon=1,\n",
    "    missing_data=\"interpolate\",\n",
    "    max_gap=1,\n",
    "    test_size=0.22,\n",
    "    val_size=0.11,\n",
    "    stride=30,\n",
    ")"
   ]
  },
  {
   "cell_type": "code",
   "execution_count": 7,
   "metadata": {},
   "outputs": [
    {
     "name": "stderr",
     "output_type": "stream",
     "text": [
      "Using 16bit Automatic Mixed Precision (AMP)\n"
     ]
    },
    {
     "name": "stdout",
     "output_type": "stream",
     "text": [
      "62\n"
     ]
    },
    {
     "name": "stderr",
     "output_type": "stream",
     "text": [
      "GPU available: True (cuda), used: True\n",
      "TPU available: False, using: 0 TPU cores\n",
      "HPU available: False, using: 0 HPUs\n",
      "LOCAL_RANK: 0 - CUDA_VISIBLE_DEVICES: [0]\n",
      "\n",
      "  | Name | Type   | Params | Mode \n",
      "----------------------------------------\n",
      "0 | lstm | LSTM   | 265 K  | train\n",
      "1 | fc   | Linear | 65     | train\n",
      "----------------------------------------\n",
      "265 K     Trainable params\n",
      "0         Non-trainable params\n",
      "265 K     Total params\n",
      "1.063     Total estimated model params size (MB)\n"
     ]
    },
    {
     "name": "stdout",
     "output_type": "stream",
     "text": [
      "Sanity Checking DataLoader 0:   0%|          | 0/2 [00:00<?, ?it/s]"
     ]
    },
    {
     "ename": "RuntimeError",
     "evalue": "input.size(-1) must be equal to input_size. Expected 62, got 65",
     "output_type": "error",
     "traceback": [
      "\u001b[0;31m---------------------------------------------------------------------------\u001b[0m",
      "\u001b[0;31mRuntimeError\u001b[0m                              Traceback (most recent call last)",
      "Cell \u001b[0;32mIn[7], line 41\u001b[0m\n\u001b[1;32m     23\u001b[0m torch\u001b[38;5;241m.\u001b[39mset_float32_matmul_precision(\u001b[38;5;124m\"\u001b[39m\u001b[38;5;124mhigh\u001b[39m\u001b[38;5;124m\"\u001b[39m)\n\u001b[1;32m     24\u001b[0m trainer \u001b[38;5;241m=\u001b[39m ptl\u001b[38;5;241m.\u001b[39mTrainer(\n\u001b[1;32m     25\u001b[0m     max_epochs\u001b[38;5;241m=\u001b[39mepochs,\n\u001b[1;32m     26\u001b[0m     accelerator\u001b[38;5;241m=\u001b[39m\u001b[38;5;124m\"\u001b[39m\u001b[38;5;124mgpu\u001b[39m\u001b[38;5;124m\"\u001b[39m,\n\u001b[0;32m   (...)\u001b[0m\n\u001b[1;32m     39\u001b[0m     min_epochs\u001b[38;5;241m=\u001b[39m\u001b[38;5;241m50\u001b[39m,\n\u001b[1;32m     40\u001b[0m )\n\u001b[0;32m---> 41\u001b[0m \u001b[43mtrainer\u001b[49m\u001b[38;5;241;43m.\u001b[39;49m\u001b[43mfit\u001b[49m\u001b[43m(\u001b[49m\u001b[43mmodel\u001b[49m\u001b[43m,\u001b[49m\u001b[43m \u001b[49m\u001b[43mtrain_loader\u001b[49m\u001b[43m,\u001b[49m\u001b[43m \u001b[49m\u001b[43mval_loader\u001b[49m\u001b[43m)\u001b[49m\n\u001b[1;32m     43\u001b[0m \u001b[38;5;66;03m# Test the model\u001b[39;00m\n\u001b[1;32m     44\u001b[0m trainer\u001b[38;5;241m.\u001b[39mtest(model, test_loader)\n",
      "File \u001b[0;32m~/miniconda3/envs/isro-project/lib/python3.12/site-packages/pytorch_lightning/trainer/trainer.py:543\u001b[0m, in \u001b[0;36mTrainer.fit\u001b[0;34m(self, model, train_dataloaders, val_dataloaders, datamodule, ckpt_path)\u001b[0m\n\u001b[1;32m    541\u001b[0m \u001b[38;5;28mself\u001b[39m\u001b[38;5;241m.\u001b[39mstate\u001b[38;5;241m.\u001b[39mstatus \u001b[38;5;241m=\u001b[39m TrainerStatus\u001b[38;5;241m.\u001b[39mRUNNING\n\u001b[1;32m    542\u001b[0m \u001b[38;5;28mself\u001b[39m\u001b[38;5;241m.\u001b[39mtraining \u001b[38;5;241m=\u001b[39m \u001b[38;5;28;01mTrue\u001b[39;00m\n\u001b[0;32m--> 543\u001b[0m \u001b[43mcall\u001b[49m\u001b[38;5;241;43m.\u001b[39;49m\u001b[43m_call_and_handle_interrupt\u001b[49m\u001b[43m(\u001b[49m\n\u001b[1;32m    544\u001b[0m \u001b[43m    \u001b[49m\u001b[38;5;28;43mself\u001b[39;49m\u001b[43m,\u001b[49m\u001b[43m \u001b[49m\u001b[38;5;28;43mself\u001b[39;49m\u001b[38;5;241;43m.\u001b[39;49m\u001b[43m_fit_impl\u001b[49m\u001b[43m,\u001b[49m\u001b[43m \u001b[49m\u001b[43mmodel\u001b[49m\u001b[43m,\u001b[49m\u001b[43m \u001b[49m\u001b[43mtrain_dataloaders\u001b[49m\u001b[43m,\u001b[49m\u001b[43m \u001b[49m\u001b[43mval_dataloaders\u001b[49m\u001b[43m,\u001b[49m\u001b[43m \u001b[49m\u001b[43mdatamodule\u001b[49m\u001b[43m,\u001b[49m\u001b[43m \u001b[49m\u001b[43mckpt_path\u001b[49m\n\u001b[1;32m    545\u001b[0m \u001b[43m\u001b[49m\u001b[43m)\u001b[49m\n",
      "File \u001b[0;32m~/miniconda3/envs/isro-project/lib/python3.12/site-packages/pytorch_lightning/trainer/call.py:44\u001b[0m, in \u001b[0;36m_call_and_handle_interrupt\u001b[0;34m(trainer, trainer_fn, *args, **kwargs)\u001b[0m\n\u001b[1;32m     42\u001b[0m     \u001b[38;5;28;01mif\u001b[39;00m trainer\u001b[38;5;241m.\u001b[39mstrategy\u001b[38;5;241m.\u001b[39mlauncher \u001b[38;5;129;01mis\u001b[39;00m \u001b[38;5;129;01mnot\u001b[39;00m \u001b[38;5;28;01mNone\u001b[39;00m:\n\u001b[1;32m     43\u001b[0m         \u001b[38;5;28;01mreturn\u001b[39;00m trainer\u001b[38;5;241m.\u001b[39mstrategy\u001b[38;5;241m.\u001b[39mlauncher\u001b[38;5;241m.\u001b[39mlaunch(trainer_fn, \u001b[38;5;241m*\u001b[39margs, trainer\u001b[38;5;241m=\u001b[39mtrainer, \u001b[38;5;241m*\u001b[39m\u001b[38;5;241m*\u001b[39mkwargs)\n\u001b[0;32m---> 44\u001b[0m     \u001b[38;5;28;01mreturn\u001b[39;00m \u001b[43mtrainer_fn\u001b[49m\u001b[43m(\u001b[49m\u001b[38;5;241;43m*\u001b[39;49m\u001b[43margs\u001b[49m\u001b[43m,\u001b[49m\u001b[43m \u001b[49m\u001b[38;5;241;43m*\u001b[39;49m\u001b[38;5;241;43m*\u001b[39;49m\u001b[43mkwargs\u001b[49m\u001b[43m)\u001b[49m\n\u001b[1;32m     46\u001b[0m \u001b[38;5;28;01mexcept\u001b[39;00m _TunerExitException:\n\u001b[1;32m     47\u001b[0m     _call_teardown_hook(trainer)\n",
      "File \u001b[0;32m~/miniconda3/envs/isro-project/lib/python3.12/site-packages/pytorch_lightning/trainer/trainer.py:579\u001b[0m, in \u001b[0;36mTrainer._fit_impl\u001b[0;34m(self, model, train_dataloaders, val_dataloaders, datamodule, ckpt_path)\u001b[0m\n\u001b[1;32m    572\u001b[0m \u001b[38;5;28;01massert\u001b[39;00m \u001b[38;5;28mself\u001b[39m\u001b[38;5;241m.\u001b[39mstate\u001b[38;5;241m.\u001b[39mfn \u001b[38;5;129;01mis\u001b[39;00m \u001b[38;5;129;01mnot\u001b[39;00m \u001b[38;5;28;01mNone\u001b[39;00m\n\u001b[1;32m    573\u001b[0m ckpt_path \u001b[38;5;241m=\u001b[39m \u001b[38;5;28mself\u001b[39m\u001b[38;5;241m.\u001b[39m_checkpoint_connector\u001b[38;5;241m.\u001b[39m_select_ckpt_path(\n\u001b[1;32m    574\u001b[0m     \u001b[38;5;28mself\u001b[39m\u001b[38;5;241m.\u001b[39mstate\u001b[38;5;241m.\u001b[39mfn,\n\u001b[1;32m    575\u001b[0m     ckpt_path,\n\u001b[1;32m    576\u001b[0m     model_provided\u001b[38;5;241m=\u001b[39m\u001b[38;5;28;01mTrue\u001b[39;00m,\n\u001b[1;32m    577\u001b[0m     model_connected\u001b[38;5;241m=\u001b[39m\u001b[38;5;28mself\u001b[39m\u001b[38;5;241m.\u001b[39mlightning_module \u001b[38;5;129;01mis\u001b[39;00m \u001b[38;5;129;01mnot\u001b[39;00m \u001b[38;5;28;01mNone\u001b[39;00m,\n\u001b[1;32m    578\u001b[0m )\n\u001b[0;32m--> 579\u001b[0m \u001b[38;5;28;43mself\u001b[39;49m\u001b[38;5;241;43m.\u001b[39;49m\u001b[43m_run\u001b[49m\u001b[43m(\u001b[49m\u001b[43mmodel\u001b[49m\u001b[43m,\u001b[49m\u001b[43m \u001b[49m\u001b[43mckpt_path\u001b[49m\u001b[38;5;241;43m=\u001b[39;49m\u001b[43mckpt_path\u001b[49m\u001b[43m)\u001b[49m\n\u001b[1;32m    581\u001b[0m \u001b[38;5;28;01massert\u001b[39;00m \u001b[38;5;28mself\u001b[39m\u001b[38;5;241m.\u001b[39mstate\u001b[38;5;241m.\u001b[39mstopped\n\u001b[1;32m    582\u001b[0m \u001b[38;5;28mself\u001b[39m\u001b[38;5;241m.\u001b[39mtraining \u001b[38;5;241m=\u001b[39m \u001b[38;5;28;01mFalse\u001b[39;00m\n",
      "File \u001b[0;32m~/miniconda3/envs/isro-project/lib/python3.12/site-packages/pytorch_lightning/trainer/trainer.py:986\u001b[0m, in \u001b[0;36mTrainer._run\u001b[0;34m(self, model, ckpt_path)\u001b[0m\n\u001b[1;32m    981\u001b[0m \u001b[38;5;28mself\u001b[39m\u001b[38;5;241m.\u001b[39m_signal_connector\u001b[38;5;241m.\u001b[39mregister_signal_handlers()\n\u001b[1;32m    983\u001b[0m \u001b[38;5;66;03m# ----------------------------\u001b[39;00m\n\u001b[1;32m    984\u001b[0m \u001b[38;5;66;03m# RUN THE TRAINER\u001b[39;00m\n\u001b[1;32m    985\u001b[0m \u001b[38;5;66;03m# ----------------------------\u001b[39;00m\n\u001b[0;32m--> 986\u001b[0m results \u001b[38;5;241m=\u001b[39m \u001b[38;5;28;43mself\u001b[39;49m\u001b[38;5;241;43m.\u001b[39;49m\u001b[43m_run_stage\u001b[49m\u001b[43m(\u001b[49m\u001b[43m)\u001b[49m\n\u001b[1;32m    988\u001b[0m \u001b[38;5;66;03m# ----------------------------\u001b[39;00m\n\u001b[1;32m    989\u001b[0m \u001b[38;5;66;03m# POST-Training CLEAN UP\u001b[39;00m\n\u001b[1;32m    990\u001b[0m \u001b[38;5;66;03m# ----------------------------\u001b[39;00m\n\u001b[1;32m    991\u001b[0m log\u001b[38;5;241m.\u001b[39mdebug(\u001b[38;5;124mf\u001b[39m\u001b[38;5;124m\"\u001b[39m\u001b[38;5;132;01m{\u001b[39;00m\u001b[38;5;28mself\u001b[39m\u001b[38;5;241m.\u001b[39m\u001b[38;5;18m__class__\u001b[39m\u001b[38;5;241m.\u001b[39m\u001b[38;5;18m__name__\u001b[39m\u001b[38;5;132;01m}\u001b[39;00m\u001b[38;5;124m: trainer tearing down\u001b[39m\u001b[38;5;124m\"\u001b[39m)\n",
      "File \u001b[0;32m~/miniconda3/envs/isro-project/lib/python3.12/site-packages/pytorch_lightning/trainer/trainer.py:1028\u001b[0m, in \u001b[0;36mTrainer._run_stage\u001b[0;34m(self)\u001b[0m\n\u001b[1;32m   1026\u001b[0m \u001b[38;5;28;01mif\u001b[39;00m \u001b[38;5;28mself\u001b[39m\u001b[38;5;241m.\u001b[39mtraining:\n\u001b[1;32m   1027\u001b[0m     \u001b[38;5;28;01mwith\u001b[39;00m isolate_rng():\n\u001b[0;32m-> 1028\u001b[0m         \u001b[38;5;28;43mself\u001b[39;49m\u001b[38;5;241;43m.\u001b[39;49m\u001b[43m_run_sanity_check\u001b[49m\u001b[43m(\u001b[49m\u001b[43m)\u001b[49m\n\u001b[1;32m   1029\u001b[0m     \u001b[38;5;28;01mwith\u001b[39;00m torch\u001b[38;5;241m.\u001b[39mautograd\u001b[38;5;241m.\u001b[39mset_detect_anomaly(\u001b[38;5;28mself\u001b[39m\u001b[38;5;241m.\u001b[39m_detect_anomaly):\n\u001b[1;32m   1030\u001b[0m         \u001b[38;5;28mself\u001b[39m\u001b[38;5;241m.\u001b[39mfit_loop\u001b[38;5;241m.\u001b[39mrun()\n",
      "File \u001b[0;32m~/miniconda3/envs/isro-project/lib/python3.12/site-packages/pytorch_lightning/trainer/trainer.py:1057\u001b[0m, in \u001b[0;36mTrainer._run_sanity_check\u001b[0;34m(self)\u001b[0m\n\u001b[1;32m   1054\u001b[0m call\u001b[38;5;241m.\u001b[39m_call_callback_hooks(\u001b[38;5;28mself\u001b[39m, \u001b[38;5;124m\"\u001b[39m\u001b[38;5;124mon_sanity_check_start\u001b[39m\u001b[38;5;124m\"\u001b[39m)\n\u001b[1;32m   1056\u001b[0m \u001b[38;5;66;03m# run eval step\u001b[39;00m\n\u001b[0;32m-> 1057\u001b[0m \u001b[43mval_loop\u001b[49m\u001b[38;5;241;43m.\u001b[39;49m\u001b[43mrun\u001b[49m\u001b[43m(\u001b[49m\u001b[43m)\u001b[49m\n\u001b[1;32m   1059\u001b[0m call\u001b[38;5;241m.\u001b[39m_call_callback_hooks(\u001b[38;5;28mself\u001b[39m, \u001b[38;5;124m\"\u001b[39m\u001b[38;5;124mon_sanity_check_end\u001b[39m\u001b[38;5;124m\"\u001b[39m)\n\u001b[1;32m   1061\u001b[0m \u001b[38;5;66;03m# reset logger connector\u001b[39;00m\n",
      "File \u001b[0;32m~/miniconda3/envs/isro-project/lib/python3.12/site-packages/pytorch_lightning/loops/utilities.py:182\u001b[0m, in \u001b[0;36m_no_grad_context.<locals>._decorator\u001b[0;34m(self, *args, **kwargs)\u001b[0m\n\u001b[1;32m    180\u001b[0m     context_manager \u001b[38;5;241m=\u001b[39m torch\u001b[38;5;241m.\u001b[39mno_grad\n\u001b[1;32m    181\u001b[0m \u001b[38;5;28;01mwith\u001b[39;00m context_manager():\n\u001b[0;32m--> 182\u001b[0m     \u001b[38;5;28;01mreturn\u001b[39;00m \u001b[43mloop_run\u001b[49m\u001b[43m(\u001b[49m\u001b[38;5;28;43mself\u001b[39;49m\u001b[43m,\u001b[49m\u001b[43m \u001b[49m\u001b[38;5;241;43m*\u001b[39;49m\u001b[43margs\u001b[49m\u001b[43m,\u001b[49m\u001b[43m \u001b[49m\u001b[38;5;241;43m*\u001b[39;49m\u001b[38;5;241;43m*\u001b[39;49m\u001b[43mkwargs\u001b[49m\u001b[43m)\u001b[49m\n",
      "File \u001b[0;32m~/miniconda3/envs/isro-project/lib/python3.12/site-packages/pytorch_lightning/loops/evaluation_loop.py:135\u001b[0m, in \u001b[0;36m_EvaluationLoop.run\u001b[0;34m(self)\u001b[0m\n\u001b[1;32m    133\u001b[0m     \u001b[38;5;28mself\u001b[39m\u001b[38;5;241m.\u001b[39mbatch_progress\u001b[38;5;241m.\u001b[39mis_last_batch \u001b[38;5;241m=\u001b[39m data_fetcher\u001b[38;5;241m.\u001b[39mdone\n\u001b[1;32m    134\u001b[0m     \u001b[38;5;66;03m# run step hooks\u001b[39;00m\n\u001b[0;32m--> 135\u001b[0m     \u001b[38;5;28;43mself\u001b[39;49m\u001b[38;5;241;43m.\u001b[39;49m\u001b[43m_evaluation_step\u001b[49m\u001b[43m(\u001b[49m\u001b[43mbatch\u001b[49m\u001b[43m,\u001b[49m\u001b[43m \u001b[49m\u001b[43mbatch_idx\u001b[49m\u001b[43m,\u001b[49m\u001b[43m \u001b[49m\u001b[43mdataloader_idx\u001b[49m\u001b[43m,\u001b[49m\u001b[43m \u001b[49m\u001b[43mdataloader_iter\u001b[49m\u001b[43m)\u001b[49m\n\u001b[1;32m    136\u001b[0m \u001b[38;5;28;01mexcept\u001b[39;00m \u001b[38;5;167;01mStopIteration\u001b[39;00m:\n\u001b[1;32m    137\u001b[0m     \u001b[38;5;66;03m# this needs to wrap the `*_step` call too (not just `next`) for `dataloader_iter` support\u001b[39;00m\n\u001b[1;32m    138\u001b[0m     \u001b[38;5;28;01mbreak\u001b[39;00m\n",
      "File \u001b[0;32m~/miniconda3/envs/isro-project/lib/python3.12/site-packages/pytorch_lightning/loops/evaluation_loop.py:396\u001b[0m, in \u001b[0;36m_EvaluationLoop._evaluation_step\u001b[0;34m(self, batch, batch_idx, dataloader_idx, dataloader_iter)\u001b[0m\n\u001b[1;32m    390\u001b[0m hook_name \u001b[38;5;241m=\u001b[39m \u001b[38;5;124m\"\u001b[39m\u001b[38;5;124mtest_step\u001b[39m\u001b[38;5;124m\"\u001b[39m \u001b[38;5;28;01mif\u001b[39;00m trainer\u001b[38;5;241m.\u001b[39mtesting \u001b[38;5;28;01melse\u001b[39;00m \u001b[38;5;124m\"\u001b[39m\u001b[38;5;124mvalidation_step\u001b[39m\u001b[38;5;124m\"\u001b[39m\n\u001b[1;32m    391\u001b[0m step_args \u001b[38;5;241m=\u001b[39m (\n\u001b[1;32m    392\u001b[0m     \u001b[38;5;28mself\u001b[39m\u001b[38;5;241m.\u001b[39m_build_step_args_from_hook_kwargs(hook_kwargs, hook_name)\n\u001b[1;32m    393\u001b[0m     \u001b[38;5;28;01mif\u001b[39;00m \u001b[38;5;129;01mnot\u001b[39;00m using_dataloader_iter\n\u001b[1;32m    394\u001b[0m     \u001b[38;5;28;01melse\u001b[39;00m (dataloader_iter,)\n\u001b[1;32m    395\u001b[0m )\n\u001b[0;32m--> 396\u001b[0m output \u001b[38;5;241m=\u001b[39m \u001b[43mcall\u001b[49m\u001b[38;5;241;43m.\u001b[39;49m\u001b[43m_call_strategy_hook\u001b[49m\u001b[43m(\u001b[49m\u001b[43mtrainer\u001b[49m\u001b[43m,\u001b[49m\u001b[43m \u001b[49m\u001b[43mhook_name\u001b[49m\u001b[43m,\u001b[49m\u001b[43m \u001b[49m\u001b[38;5;241;43m*\u001b[39;49m\u001b[43mstep_args\u001b[49m\u001b[43m)\u001b[49m\n\u001b[1;32m    398\u001b[0m \u001b[38;5;28mself\u001b[39m\u001b[38;5;241m.\u001b[39mbatch_progress\u001b[38;5;241m.\u001b[39mincrement_processed()\n\u001b[1;32m    400\u001b[0m \u001b[38;5;28;01mif\u001b[39;00m using_dataloader_iter:\n\u001b[1;32m    401\u001b[0m     \u001b[38;5;66;03m# update the hook kwargs now that the step method might have consumed the iterator\u001b[39;00m\n",
      "File \u001b[0;32m~/miniconda3/envs/isro-project/lib/python3.12/site-packages/pytorch_lightning/trainer/call.py:311\u001b[0m, in \u001b[0;36m_call_strategy_hook\u001b[0;34m(trainer, hook_name, *args, **kwargs)\u001b[0m\n\u001b[1;32m    308\u001b[0m     \u001b[38;5;28;01mreturn\u001b[39;00m \u001b[38;5;28;01mNone\u001b[39;00m\n\u001b[1;32m    310\u001b[0m \u001b[38;5;28;01mwith\u001b[39;00m trainer\u001b[38;5;241m.\u001b[39mprofiler\u001b[38;5;241m.\u001b[39mprofile(\u001b[38;5;124mf\u001b[39m\u001b[38;5;124m\"\u001b[39m\u001b[38;5;124m[Strategy]\u001b[39m\u001b[38;5;132;01m{\u001b[39;00mtrainer\u001b[38;5;241m.\u001b[39mstrategy\u001b[38;5;241m.\u001b[39m\u001b[38;5;18m__class__\u001b[39m\u001b[38;5;241m.\u001b[39m\u001b[38;5;18m__name__\u001b[39m\u001b[38;5;132;01m}\u001b[39;00m\u001b[38;5;124m.\u001b[39m\u001b[38;5;132;01m{\u001b[39;00mhook_name\u001b[38;5;132;01m}\u001b[39;00m\u001b[38;5;124m\"\u001b[39m):\n\u001b[0;32m--> 311\u001b[0m     output \u001b[38;5;241m=\u001b[39m \u001b[43mfn\u001b[49m\u001b[43m(\u001b[49m\u001b[38;5;241;43m*\u001b[39;49m\u001b[43margs\u001b[49m\u001b[43m,\u001b[49m\u001b[43m \u001b[49m\u001b[38;5;241;43m*\u001b[39;49m\u001b[38;5;241;43m*\u001b[39;49m\u001b[43mkwargs\u001b[49m\u001b[43m)\u001b[49m\n\u001b[1;32m    313\u001b[0m \u001b[38;5;66;03m# restore current_fx when nested context\u001b[39;00m\n\u001b[1;32m    314\u001b[0m pl_module\u001b[38;5;241m.\u001b[39m_current_fx_name \u001b[38;5;241m=\u001b[39m prev_fx_name\n",
      "File \u001b[0;32m~/miniconda3/envs/isro-project/lib/python3.12/site-packages/pytorch_lightning/strategies/strategy.py:411\u001b[0m, in \u001b[0;36mStrategy.validation_step\u001b[0;34m(self, *args, **kwargs)\u001b[0m\n\u001b[1;32m    409\u001b[0m \u001b[38;5;28;01mif\u001b[39;00m \u001b[38;5;28mself\u001b[39m\u001b[38;5;241m.\u001b[39mmodel \u001b[38;5;241m!=\u001b[39m \u001b[38;5;28mself\u001b[39m\u001b[38;5;241m.\u001b[39mlightning_module:\n\u001b[1;32m    410\u001b[0m     \u001b[38;5;28;01mreturn\u001b[39;00m \u001b[38;5;28mself\u001b[39m\u001b[38;5;241m.\u001b[39m_forward_redirection(\u001b[38;5;28mself\u001b[39m\u001b[38;5;241m.\u001b[39mmodel, \u001b[38;5;28mself\u001b[39m\u001b[38;5;241m.\u001b[39mlightning_module, \u001b[38;5;124m\"\u001b[39m\u001b[38;5;124mvalidation_step\u001b[39m\u001b[38;5;124m\"\u001b[39m, \u001b[38;5;241m*\u001b[39margs, \u001b[38;5;241m*\u001b[39m\u001b[38;5;241m*\u001b[39mkwargs)\n\u001b[0;32m--> 411\u001b[0m \u001b[38;5;28;01mreturn\u001b[39;00m \u001b[38;5;28;43mself\u001b[39;49m\u001b[38;5;241;43m.\u001b[39;49m\u001b[43mlightning_module\u001b[49m\u001b[38;5;241;43m.\u001b[39;49m\u001b[43mvalidation_step\u001b[49m\u001b[43m(\u001b[49m\u001b[38;5;241;43m*\u001b[39;49m\u001b[43margs\u001b[49m\u001b[43m,\u001b[49m\u001b[43m \u001b[49m\u001b[38;5;241;43m*\u001b[39;49m\u001b[38;5;241;43m*\u001b[39;49m\u001b[43mkwargs\u001b[49m\u001b[43m)\u001b[49m\n",
      "Cell \u001b[0;32mIn[5], line 46\u001b[0m, in \u001b[0;36mUnidirectionalLSTM.validation_step\u001b[0;34m(self, batch, batch_idx)\u001b[0m\n\u001b[1;32m     42\u001b[0m \u001b[38;5;28;01mdef\u001b[39;00m \u001b[38;5;21mvalidation_step\u001b[39m(\n\u001b[1;32m     43\u001b[0m     \u001b[38;5;28mself\u001b[39m, batch: Tuple[torch\u001b[38;5;241m.\u001b[39mTensor, torch\u001b[38;5;241m.\u001b[39mTensor], batch_idx: \u001b[38;5;28mint\u001b[39m\n\u001b[1;32m     44\u001b[0m ) \u001b[38;5;241m-\u001b[39m\u001b[38;5;241m>\u001b[39m \u001b[38;5;28;01mNone\u001b[39;00m:\n\u001b[1;32m     45\u001b[0m     x, y \u001b[38;5;241m=\u001b[39m batch\n\u001b[0;32m---> 46\u001b[0m     y_hat \u001b[38;5;241m=\u001b[39m \u001b[38;5;28;43mself\u001b[39;49m\u001b[43m(\u001b[49m\u001b[43mx\u001b[49m\u001b[43m)\u001b[49m\n\u001b[1;32m     47\u001b[0m     loss \u001b[38;5;241m=\u001b[39m nn\u001b[38;5;241m.\u001b[39mMSELoss()(y_hat, y)\n\u001b[1;32m     48\u001b[0m     \u001b[38;5;28mself\u001b[39m\u001b[38;5;241m.\u001b[39mlog(\n\u001b[1;32m     49\u001b[0m         \u001b[38;5;124m\"\u001b[39m\u001b[38;5;124mval_loss\u001b[39m\u001b[38;5;124m\"\u001b[39m,\n\u001b[1;32m     50\u001b[0m         loss,\n\u001b[0;32m   (...)\u001b[0m\n\u001b[1;32m     53\u001b[0m         prog_bar\u001b[38;5;241m=\u001b[39m\u001b[38;5;28;01mTrue\u001b[39;00m,\n\u001b[1;32m     54\u001b[0m     )\n",
      "File \u001b[0;32m~/miniconda3/envs/isro-project/lib/python3.12/site-packages/torch/nn/modules/module.py:1532\u001b[0m, in \u001b[0;36mModule._wrapped_call_impl\u001b[0;34m(self, *args, **kwargs)\u001b[0m\n\u001b[1;32m   1530\u001b[0m     \u001b[38;5;28;01mreturn\u001b[39;00m \u001b[38;5;28mself\u001b[39m\u001b[38;5;241m.\u001b[39m_compiled_call_impl(\u001b[38;5;241m*\u001b[39margs, \u001b[38;5;241m*\u001b[39m\u001b[38;5;241m*\u001b[39mkwargs)  \u001b[38;5;66;03m# type: ignore[misc]\u001b[39;00m\n\u001b[1;32m   1531\u001b[0m \u001b[38;5;28;01melse\u001b[39;00m:\n\u001b[0;32m-> 1532\u001b[0m     \u001b[38;5;28;01mreturn\u001b[39;00m \u001b[38;5;28;43mself\u001b[39;49m\u001b[38;5;241;43m.\u001b[39;49m\u001b[43m_call_impl\u001b[49m\u001b[43m(\u001b[49m\u001b[38;5;241;43m*\u001b[39;49m\u001b[43margs\u001b[49m\u001b[43m,\u001b[49m\u001b[43m \u001b[49m\u001b[38;5;241;43m*\u001b[39;49m\u001b[38;5;241;43m*\u001b[39;49m\u001b[43mkwargs\u001b[49m\u001b[43m)\u001b[49m\n",
      "File \u001b[0;32m~/miniconda3/envs/isro-project/lib/python3.12/site-packages/torch/nn/modules/module.py:1541\u001b[0m, in \u001b[0;36mModule._call_impl\u001b[0;34m(self, *args, **kwargs)\u001b[0m\n\u001b[1;32m   1536\u001b[0m \u001b[38;5;66;03m# If we don't have any hooks, we want to skip the rest of the logic in\u001b[39;00m\n\u001b[1;32m   1537\u001b[0m \u001b[38;5;66;03m# this function, and just call forward.\u001b[39;00m\n\u001b[1;32m   1538\u001b[0m \u001b[38;5;28;01mif\u001b[39;00m \u001b[38;5;129;01mnot\u001b[39;00m (\u001b[38;5;28mself\u001b[39m\u001b[38;5;241m.\u001b[39m_backward_hooks \u001b[38;5;129;01mor\u001b[39;00m \u001b[38;5;28mself\u001b[39m\u001b[38;5;241m.\u001b[39m_backward_pre_hooks \u001b[38;5;129;01mor\u001b[39;00m \u001b[38;5;28mself\u001b[39m\u001b[38;5;241m.\u001b[39m_forward_hooks \u001b[38;5;129;01mor\u001b[39;00m \u001b[38;5;28mself\u001b[39m\u001b[38;5;241m.\u001b[39m_forward_pre_hooks\n\u001b[1;32m   1539\u001b[0m         \u001b[38;5;129;01mor\u001b[39;00m _global_backward_pre_hooks \u001b[38;5;129;01mor\u001b[39;00m _global_backward_hooks\n\u001b[1;32m   1540\u001b[0m         \u001b[38;5;129;01mor\u001b[39;00m _global_forward_hooks \u001b[38;5;129;01mor\u001b[39;00m _global_forward_pre_hooks):\n\u001b[0;32m-> 1541\u001b[0m     \u001b[38;5;28;01mreturn\u001b[39;00m \u001b[43mforward_call\u001b[49m\u001b[43m(\u001b[49m\u001b[38;5;241;43m*\u001b[39;49m\u001b[43margs\u001b[49m\u001b[43m,\u001b[49m\u001b[43m \u001b[49m\u001b[38;5;241;43m*\u001b[39;49m\u001b[38;5;241;43m*\u001b[39;49m\u001b[43mkwargs\u001b[49m\u001b[43m)\u001b[49m\n\u001b[1;32m   1543\u001b[0m \u001b[38;5;28;01mtry\u001b[39;00m:\n\u001b[1;32m   1544\u001b[0m     result \u001b[38;5;241m=\u001b[39m \u001b[38;5;28;01mNone\u001b[39;00m\n",
      "Cell \u001b[0;32mIn[5], line 21\u001b[0m, in \u001b[0;36mUnidirectionalLSTM.forward\u001b[0;34m(self, x)\u001b[0m\n\u001b[1;32m     20\u001b[0m \u001b[38;5;28;01mdef\u001b[39;00m \u001b[38;5;21mforward\u001b[39m(\u001b[38;5;28mself\u001b[39m, x: torch\u001b[38;5;241m.\u001b[39mTensor) \u001b[38;5;241m-\u001b[39m\u001b[38;5;241m>\u001b[39m torch\u001b[38;5;241m.\u001b[39mTensor:\n\u001b[0;32m---> 21\u001b[0m     lstm_out, _ \u001b[38;5;241m=\u001b[39m \u001b[38;5;28;43mself\u001b[39;49m\u001b[38;5;241;43m.\u001b[39;49m\u001b[43mlstm\u001b[49m\u001b[43m(\u001b[49m\u001b[43mx\u001b[49m\u001b[43m)\u001b[49m\n\u001b[1;32m     22\u001b[0m     \u001b[38;5;66;03m# Extract the last time step\u001b[39;00m\n\u001b[1;32m     23\u001b[0m     last_step \u001b[38;5;241m=\u001b[39m lstm_out[:, \u001b[38;5;241m-\u001b[39m\u001b[38;5;241m1\u001b[39m, :]\n",
      "File \u001b[0;32m~/miniconda3/envs/isro-project/lib/python3.12/site-packages/torch/nn/modules/module.py:1532\u001b[0m, in \u001b[0;36mModule._wrapped_call_impl\u001b[0;34m(self, *args, **kwargs)\u001b[0m\n\u001b[1;32m   1530\u001b[0m     \u001b[38;5;28;01mreturn\u001b[39;00m \u001b[38;5;28mself\u001b[39m\u001b[38;5;241m.\u001b[39m_compiled_call_impl(\u001b[38;5;241m*\u001b[39margs, \u001b[38;5;241m*\u001b[39m\u001b[38;5;241m*\u001b[39mkwargs)  \u001b[38;5;66;03m# type: ignore[misc]\u001b[39;00m\n\u001b[1;32m   1531\u001b[0m \u001b[38;5;28;01melse\u001b[39;00m:\n\u001b[0;32m-> 1532\u001b[0m     \u001b[38;5;28;01mreturn\u001b[39;00m \u001b[38;5;28;43mself\u001b[39;49m\u001b[38;5;241;43m.\u001b[39;49m\u001b[43m_call_impl\u001b[49m\u001b[43m(\u001b[49m\u001b[38;5;241;43m*\u001b[39;49m\u001b[43margs\u001b[49m\u001b[43m,\u001b[49m\u001b[43m \u001b[49m\u001b[38;5;241;43m*\u001b[39;49m\u001b[38;5;241;43m*\u001b[39;49m\u001b[43mkwargs\u001b[49m\u001b[43m)\u001b[49m\n",
      "File \u001b[0;32m~/miniconda3/envs/isro-project/lib/python3.12/site-packages/torch/nn/modules/module.py:1541\u001b[0m, in \u001b[0;36mModule._call_impl\u001b[0;34m(self, *args, **kwargs)\u001b[0m\n\u001b[1;32m   1536\u001b[0m \u001b[38;5;66;03m# If we don't have any hooks, we want to skip the rest of the logic in\u001b[39;00m\n\u001b[1;32m   1537\u001b[0m \u001b[38;5;66;03m# this function, and just call forward.\u001b[39;00m\n\u001b[1;32m   1538\u001b[0m \u001b[38;5;28;01mif\u001b[39;00m \u001b[38;5;129;01mnot\u001b[39;00m (\u001b[38;5;28mself\u001b[39m\u001b[38;5;241m.\u001b[39m_backward_hooks \u001b[38;5;129;01mor\u001b[39;00m \u001b[38;5;28mself\u001b[39m\u001b[38;5;241m.\u001b[39m_backward_pre_hooks \u001b[38;5;129;01mor\u001b[39;00m \u001b[38;5;28mself\u001b[39m\u001b[38;5;241m.\u001b[39m_forward_hooks \u001b[38;5;129;01mor\u001b[39;00m \u001b[38;5;28mself\u001b[39m\u001b[38;5;241m.\u001b[39m_forward_pre_hooks\n\u001b[1;32m   1539\u001b[0m         \u001b[38;5;129;01mor\u001b[39;00m _global_backward_pre_hooks \u001b[38;5;129;01mor\u001b[39;00m _global_backward_hooks\n\u001b[1;32m   1540\u001b[0m         \u001b[38;5;129;01mor\u001b[39;00m _global_forward_hooks \u001b[38;5;129;01mor\u001b[39;00m _global_forward_pre_hooks):\n\u001b[0;32m-> 1541\u001b[0m     \u001b[38;5;28;01mreturn\u001b[39;00m \u001b[43mforward_call\u001b[49m\u001b[43m(\u001b[49m\u001b[38;5;241;43m*\u001b[39;49m\u001b[43margs\u001b[49m\u001b[43m,\u001b[49m\u001b[43m \u001b[49m\u001b[38;5;241;43m*\u001b[39;49m\u001b[38;5;241;43m*\u001b[39;49m\u001b[43mkwargs\u001b[49m\u001b[43m)\u001b[49m\n\u001b[1;32m   1543\u001b[0m \u001b[38;5;28;01mtry\u001b[39;00m:\n\u001b[1;32m   1544\u001b[0m     result \u001b[38;5;241m=\u001b[39m \u001b[38;5;28;01mNone\u001b[39;00m\n",
      "File \u001b[0;32m~/miniconda3/envs/isro-project/lib/python3.12/site-packages/torch/nn/modules/rnn.py:892\u001b[0m, in \u001b[0;36mLSTM.forward\u001b[0;34m(self, input, hx)\u001b[0m\n\u001b[1;32m    888\u001b[0m     c_zeros \u001b[38;5;241m=\u001b[39m torch\u001b[38;5;241m.\u001b[39mzeros(\u001b[38;5;28mself\u001b[39m\u001b[38;5;241m.\u001b[39mnum_layers \u001b[38;5;241m*\u001b[39m num_directions,\n\u001b[1;32m    889\u001b[0m                           max_batch_size, \u001b[38;5;28mself\u001b[39m\u001b[38;5;241m.\u001b[39mhidden_size,\n\u001b[1;32m    890\u001b[0m                           dtype\u001b[38;5;241m=\u001b[39m\u001b[38;5;28minput\u001b[39m\u001b[38;5;241m.\u001b[39mdtype, device\u001b[38;5;241m=\u001b[39m\u001b[38;5;28minput\u001b[39m\u001b[38;5;241m.\u001b[39mdevice)\n\u001b[1;32m    891\u001b[0m     hx \u001b[38;5;241m=\u001b[39m (h_zeros, c_zeros)\n\u001b[0;32m--> 892\u001b[0m     \u001b[38;5;28;43mself\u001b[39;49m\u001b[38;5;241;43m.\u001b[39;49m\u001b[43mcheck_forward_args\u001b[49m\u001b[43m(\u001b[49m\u001b[38;5;28;43minput\u001b[39;49m\u001b[43m,\u001b[49m\u001b[43m \u001b[49m\u001b[43mhx\u001b[49m\u001b[43m,\u001b[49m\u001b[43m \u001b[49m\u001b[43mbatch_sizes\u001b[49m\u001b[43m)\u001b[49m\n\u001b[1;32m    893\u001b[0m \u001b[38;5;28;01melse\u001b[39;00m:\n\u001b[1;32m    894\u001b[0m     \u001b[38;5;28;01mif\u001b[39;00m is_batched:\n",
      "File \u001b[0;32m~/miniconda3/envs/isro-project/lib/python3.12/site-packages/torch/nn/modules/rnn.py:821\u001b[0m, in \u001b[0;36mLSTM.check_forward_args\u001b[0;34m(self, input, hidden, batch_sizes)\u001b[0m\n\u001b[1;32m    816\u001b[0m \u001b[38;5;28;01mdef\u001b[39;00m \u001b[38;5;21mcheck_forward_args\u001b[39m(\u001b[38;5;28mself\u001b[39m,  \u001b[38;5;66;03m# type: ignore[override]\u001b[39;00m\n\u001b[1;32m    817\u001b[0m                        \u001b[38;5;28minput\u001b[39m: Tensor,\n\u001b[1;32m    818\u001b[0m                        hidden: Tuple[Tensor, Tensor],\n\u001b[1;32m    819\u001b[0m                        batch_sizes: Optional[Tensor],\n\u001b[1;32m    820\u001b[0m                        ):\n\u001b[0;32m--> 821\u001b[0m     \u001b[38;5;28;43mself\u001b[39;49m\u001b[38;5;241;43m.\u001b[39;49m\u001b[43mcheck_input\u001b[49m\u001b[43m(\u001b[49m\u001b[38;5;28;43minput\u001b[39;49m\u001b[43m,\u001b[49m\u001b[43m \u001b[49m\u001b[43mbatch_sizes\u001b[49m\u001b[43m)\u001b[49m\n\u001b[1;32m    822\u001b[0m     \u001b[38;5;28mself\u001b[39m\u001b[38;5;241m.\u001b[39mcheck_hidden_size(hidden[\u001b[38;5;241m0\u001b[39m], \u001b[38;5;28mself\u001b[39m\u001b[38;5;241m.\u001b[39mget_expected_hidden_size(\u001b[38;5;28minput\u001b[39m, batch_sizes),\n\u001b[1;32m    823\u001b[0m                            \u001b[38;5;124m'\u001b[39m\u001b[38;5;124mExpected hidden[0] size \u001b[39m\u001b[38;5;132;01m{}\u001b[39;00m\u001b[38;5;124m, got \u001b[39m\u001b[38;5;132;01m{}\u001b[39;00m\u001b[38;5;124m'\u001b[39m)\n\u001b[1;32m    824\u001b[0m     \u001b[38;5;28mself\u001b[39m\u001b[38;5;241m.\u001b[39mcheck_hidden_size(hidden[\u001b[38;5;241m1\u001b[39m], \u001b[38;5;28mself\u001b[39m\u001b[38;5;241m.\u001b[39mget_expected_cell_size(\u001b[38;5;28minput\u001b[39m, batch_sizes),\n\u001b[1;32m    825\u001b[0m                            \u001b[38;5;124m'\u001b[39m\u001b[38;5;124mExpected hidden[1] size \u001b[39m\u001b[38;5;132;01m{}\u001b[39;00m\u001b[38;5;124m, got \u001b[39m\u001b[38;5;132;01m{}\u001b[39;00m\u001b[38;5;124m'\u001b[39m)\n",
      "File \u001b[0;32m~/miniconda3/envs/isro-project/lib/python3.12/site-packages/torch/nn/modules/rnn.py:240\u001b[0m, in \u001b[0;36mRNNBase.check_input\u001b[0;34m(self, input, batch_sizes)\u001b[0m\n\u001b[1;32m    237\u001b[0m     \u001b[38;5;28;01mraise\u001b[39;00m \u001b[38;5;167;01mRuntimeError\u001b[39;00m(\n\u001b[1;32m    238\u001b[0m         \u001b[38;5;124mf\u001b[39m\u001b[38;5;124m'\u001b[39m\u001b[38;5;124minput must have \u001b[39m\u001b[38;5;132;01m{\u001b[39;00mexpected_input_dim\u001b[38;5;132;01m}\u001b[39;00m\u001b[38;5;124m dimensions, got \u001b[39m\u001b[38;5;132;01m{\u001b[39;00m\u001b[38;5;28minput\u001b[39m\u001b[38;5;241m.\u001b[39mdim()\u001b[38;5;132;01m}\u001b[39;00m\u001b[38;5;124m'\u001b[39m)\n\u001b[1;32m    239\u001b[0m \u001b[38;5;28;01mif\u001b[39;00m \u001b[38;5;28mself\u001b[39m\u001b[38;5;241m.\u001b[39minput_size \u001b[38;5;241m!=\u001b[39m \u001b[38;5;28minput\u001b[39m\u001b[38;5;241m.\u001b[39msize(\u001b[38;5;241m-\u001b[39m\u001b[38;5;241m1\u001b[39m):\n\u001b[0;32m--> 240\u001b[0m     \u001b[38;5;28;01mraise\u001b[39;00m \u001b[38;5;167;01mRuntimeError\u001b[39;00m(\n\u001b[1;32m    241\u001b[0m         \u001b[38;5;124mf\u001b[39m\u001b[38;5;124m'\u001b[39m\u001b[38;5;124minput.size(-1) must be equal to input_size. Expected \u001b[39m\u001b[38;5;132;01m{\u001b[39;00m\u001b[38;5;28mself\u001b[39m\u001b[38;5;241m.\u001b[39minput_size\u001b[38;5;132;01m}\u001b[39;00m\u001b[38;5;124m, got \u001b[39m\u001b[38;5;132;01m{\u001b[39;00m\u001b[38;5;28minput\u001b[39m\u001b[38;5;241m.\u001b[39msize(\u001b[38;5;241m-\u001b[39m\u001b[38;5;241m1\u001b[39m)\u001b[38;5;132;01m}\u001b[39;00m\u001b[38;5;124m'\u001b[39m)\n",
      "\u001b[0;31mRuntimeError\u001b[0m: input.size(-1) must be equal to input_size. Expected 62, got 65"
     ]
    }
   ],
   "source": [
    "torch.clear_autocast_cache()\n",
    "torch.cuda.memory.empty_cache()\n",
    "input_size = train_loader.dataset.features.shape[1] - 3 # Number of features\n",
    "print(input_size)\n",
    "hidden_size = 64\n",
    "num_layers = 8\n",
    "output_size = 1  # For regression\n",
    "logger = TensorBoardLogger(\"tb_logs\", name=\"gurunet_model\")\n",
    "epochs=100\n",
    "checkpoint_callback = ModelCheckpoint(\n",
    "    dirpath=f\"checkpoints/version_{logger.version}\",\n",
    "    filename=\"gurunet-{epoch:02d}-{val_loss:.5f}\",\n",
    "    save_top_k=3,\n",
    "    monitor=\"val_loss\",\n",
    "    mode=\"min\",\n",
    "    verbose=True,\n",
    ")\n",
    "\n",
    "early_stop_callback = EarlyStopping(monitor=\"val_loss\", patience=15, mode=\"min\")\n",
    "\n",
    "lr_monitor = LearningRateMonitor(logging_interval=\"epoch\", log_momentum=True)\n",
    "model = UnidirectionalLSTM(input_size, hidden_size, num_layers, output_size)\n",
    "torch.set_float32_matmul_precision(\"high\")\n",
    "trainer = ptl.Trainer(\n",
    "    max_epochs=epochs,\n",
    "    accelerator=\"gpu\",\n",
    "    devices=1,\n",
    "    callbacks=[\n",
    "        checkpoint_callback,\n",
    "        early_stop_callback,\n",
    "        lr_monitor,\n",
    "    ],\n",
    "    logger=logger,\n",
    "    precision=\"16-mixed\",\n",
    "    enable_progress_bar=True,\n",
    "    enable_checkpointing=True,\n",
    "    accumulate_grad_batches=4,\n",
    "    profiler=\"simple\",\n",
    "    min_epochs=50,\n",
    ")\n",
    "trainer.fit(model, train_loader, val_loader)\n",
    "\n",
    "# Test the model\n",
    "trainer.test(model, test_loader)"
   ]
  }
 ],
 "metadata": {
  "kernelspec": {
   "display_name": "isro-project",
   "language": "python",
   "name": "python3"
  },
  "language_info": {
   "codemirror_mode": {
    "name": "ipython",
    "version": 3
   },
   "file_extension": ".py",
   "mimetype": "text/x-python",
   "name": "python",
   "nbconvert_exporter": "python",
   "pygments_lexer": "ipython3",
   "version": "3.12.4"
  }
 },
 "nbformat": 4,
 "nbformat_minor": 2
}
